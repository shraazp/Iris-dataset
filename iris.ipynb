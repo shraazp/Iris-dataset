{
  "nbformat": 4,
  "nbformat_minor": 0,
  "metadata": {
    "colab": {
      "name": "iris.ipynb",
      "provenance": [],
      "collapsed_sections": [],
      "toc_visible": true
    },
    "kernelspec": {
      "name": "python3",
      "display_name": "Python 3"
    }
  },
  "cells": [
    {
      "cell_type": "markdown",
      "metadata": {
        "id": "qlwRuhUdT3yG",
        "colab_type": "text"
      },
      "source": [
        "#**KNN Classification for Iris Dataset**\n",
        "\n",
        "---\n",
        "\n"
      ]
    },
    {
      "cell_type": "markdown",
      "metadata": {
        "id": "Woy8MFWQ7m7e",
        "colab_type": "text"
      },
      "source": [
        "# **Iris Dataset**\n",
        "\n",
        "The famous iris database, first used by Sir R. A. Fisher, is perhaps the best known dataset to be found in pattern recognition literature. There are 150 iris plants, each with 4 numeric attributes: sepal length in cm, sepal width in cm, petal length in cm, and petal width in cm. The task is to predict each plant as an iris-setosa, an iris-versicolor, or an iris-virginica based on these attributes.\n",
        "\n",
        "![iris.jpg](data:image/jpeg;base64,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)"
      ]
    },
    {
      "cell_type": "markdown",
      "metadata": {
        "id": "pKuapeQx8bpP",
        "colab_type": "text"
      },
      "source": [
        "Importing all the necessary libraries that are used ."
      ]
    },
    {
      "cell_type": "code",
      "metadata": {
        "id": "CC0EkSXMu_cx",
        "colab_type": "code",
        "colab": {}
      },
      "source": [
        "import numpy as np\n",
        "import pandas as pd\n",
        "import matplotlib.pyplot as plt\n",
        "%matplotlib inline\n",
        "import seaborn as sns"
      ],
      "execution_count": 93,
      "outputs": []
    },
    {
      "cell_type": "markdown",
      "metadata": {
        "id": "06SkoLNo8UzK",
        "colab_type": "text"
      },
      "source": [
        "The dataset is stored in a csv file, we can load it as a DataFrame using read_csv() in library pandas:"
      ]
    },
    {
      "cell_type": "code",
      "metadata": {
        "id": "9LfXH9vJ4oFZ",
        "colab_type": "code",
        "colab": {}
      },
      "source": [
        "iris=pd.read_csv(\"datasets_19_420_Iris.csv\")"
      ],
      "execution_count": 94,
      "outputs": []
    },
    {
      "cell_type": "markdown",
      "metadata": {
        "id": "xxOxI7Nh8VzC",
        "colab_type": "text"
      },
      "source": [
        "Now inspect the dimensions and first few rows:"
      ]
    },
    {
      "cell_type": "code",
      "metadata": {
        "id": "Bm5uiRIW48l9",
        "colab_type": "code",
        "colab": {
          "base_uri": "https://localhost:8080/",
          "height": 35
        },
        "outputId": "01b08061-07e5-4296-a381-bebc09457486"
      },
      "source": [
        "iris.shape"
      ],
      "execution_count": 95,
      "outputs": [
        {
          "output_type": "execute_result",
          "data": {
            "text/plain": [
              "(150, 6)"
            ]
          },
          "metadata": {
            "tags": []
          },
          "execution_count": 95
        }
      ]
    },
    {
      "cell_type": "markdown",
      "metadata": {
        "id": "ZOVDgBry8oFz",
        "colab_type": "text"
      },
      "source": [
        "We use the .head() function to view the first 5 rows:"
      ]
    },
    {
      "cell_type": "code",
      "metadata": {
        "id": "V22E9pe46Br3",
        "colab_type": "code",
        "colab": {
          "base_uri": "https://localhost:8080/",
          "height": 202
        },
        "outputId": "d44eee95-b2b3-4f8f-e9c2-465041d095ee"
      },
      "source": [
        "iris.head()"
      ],
      "execution_count": 96,
      "outputs": [
        {
          "output_type": "execute_result",
          "data": {
            "text/html": [
              "<div>\n",
              "<style scoped>\n",
              "    .dataframe tbody tr th:only-of-type {\n",
              "        vertical-align: middle;\n",
              "    }\n",
              "\n",
              "    .dataframe tbody tr th {\n",
              "        vertical-align: top;\n",
              "    }\n",
              "\n",
              "    .dataframe thead th {\n",
              "        text-align: right;\n",
              "    }\n",
              "</style>\n",
              "<table border=\"1\" class=\"dataframe\">\n",
              "  <thead>\n",
              "    <tr style=\"text-align: right;\">\n",
              "      <th></th>\n",
              "      <th>Id</th>\n",
              "      <th>SepalLengthCm</th>\n",
              "      <th>SepalWidthCm</th>\n",
              "      <th>PetalLengthCm</th>\n",
              "      <th>PetalWidthCm</th>\n",
              "      <th>Species</th>\n",
              "    </tr>\n",
              "  </thead>\n",
              "  <tbody>\n",
              "    <tr>\n",
              "      <th>0</th>\n",
              "      <td>1</td>\n",
              "      <td>5.1</td>\n",
              "      <td>3.5</td>\n",
              "      <td>1.4</td>\n",
              "      <td>0.2</td>\n",
              "      <td>Iris-setosa</td>\n",
              "    </tr>\n",
              "    <tr>\n",
              "      <th>1</th>\n",
              "      <td>2</td>\n",
              "      <td>4.9</td>\n",
              "      <td>3.0</td>\n",
              "      <td>1.4</td>\n",
              "      <td>0.2</td>\n",
              "      <td>Iris-setosa</td>\n",
              "    </tr>\n",
              "    <tr>\n",
              "      <th>2</th>\n",
              "      <td>3</td>\n",
              "      <td>4.7</td>\n",
              "      <td>3.2</td>\n",
              "      <td>1.3</td>\n",
              "      <td>0.2</td>\n",
              "      <td>Iris-setosa</td>\n",
              "    </tr>\n",
              "    <tr>\n",
              "      <th>3</th>\n",
              "      <td>4</td>\n",
              "      <td>4.6</td>\n",
              "      <td>3.1</td>\n",
              "      <td>1.5</td>\n",
              "      <td>0.2</td>\n",
              "      <td>Iris-setosa</td>\n",
              "    </tr>\n",
              "    <tr>\n",
              "      <th>4</th>\n",
              "      <td>5</td>\n",
              "      <td>5.0</td>\n",
              "      <td>3.6</td>\n",
              "      <td>1.4</td>\n",
              "      <td>0.2</td>\n",
              "      <td>Iris-setosa</td>\n",
              "    </tr>\n",
              "  </tbody>\n",
              "</table>\n",
              "</div>"
            ],
            "text/plain": [
              "   Id  SepalLengthCm  SepalWidthCm  PetalLengthCm  PetalWidthCm      Species\n",
              "0   1            5.1           3.5            1.4           0.2  Iris-setosa\n",
              "1   2            4.9           3.0            1.4           0.2  Iris-setosa\n",
              "2   3            4.7           3.2            1.3           0.2  Iris-setosa\n",
              "3   4            4.6           3.1            1.5           0.2  Iris-setosa\n",
              "4   5            5.0           3.6            1.4           0.2  Iris-setosa"
            ]
          },
          "metadata": {
            "tags": []
          },
          "execution_count": 96
        }
      ]
    },
    {
      "cell_type": "markdown",
      "metadata": {
        "id": "01KbJ3bA8qLW",
        "colab_type": "text"
      },
      "source": [
        "The column id is the row index, not really informative, so we can drop it from the dataset using drop() function:"
      ]
    },
    {
      "cell_type": "code",
      "metadata": {
        "id": "DG9oPCHC8umn",
        "colab_type": "code",
        "colab": {
          "base_uri": "https://localhost:8080/",
          "height": 202
        },
        "outputId": "7c70c72d-f28c-477b-f475-0ee4a09a0022"
      },
      "source": [
        "iris.drop('Id', axis=1, inplace=True)\n",
        "iris.head()"
      ],
      "execution_count": 97,
      "outputs": [
        {
          "output_type": "execute_result",
          "data": {
            "text/html": [
              "<div>\n",
              "<style scoped>\n",
              "    .dataframe tbody tr th:only-of-type {\n",
              "        vertical-align: middle;\n",
              "    }\n",
              "\n",
              "    .dataframe tbody tr th {\n",
              "        vertical-align: top;\n",
              "    }\n",
              "\n",
              "    .dataframe thead th {\n",
              "        text-align: right;\n",
              "    }\n",
              "</style>\n",
              "<table border=\"1\" class=\"dataframe\">\n",
              "  <thead>\n",
              "    <tr style=\"text-align: right;\">\n",
              "      <th></th>\n",
              "      <th>SepalLengthCm</th>\n",
              "      <th>SepalWidthCm</th>\n",
              "      <th>PetalLengthCm</th>\n",
              "      <th>PetalWidthCm</th>\n",
              "      <th>Species</th>\n",
              "    </tr>\n",
              "  </thead>\n",
              "  <tbody>\n",
              "    <tr>\n",
              "      <th>0</th>\n",
              "      <td>5.1</td>\n",
              "      <td>3.5</td>\n",
              "      <td>1.4</td>\n",
              "      <td>0.2</td>\n",
              "      <td>Iris-setosa</td>\n",
              "    </tr>\n",
              "    <tr>\n",
              "      <th>1</th>\n",
              "      <td>4.9</td>\n",
              "      <td>3.0</td>\n",
              "      <td>1.4</td>\n",
              "      <td>0.2</td>\n",
              "      <td>Iris-setosa</td>\n",
              "    </tr>\n",
              "    <tr>\n",
              "      <th>2</th>\n",
              "      <td>4.7</td>\n",
              "      <td>3.2</td>\n",
              "      <td>1.3</td>\n",
              "      <td>0.2</td>\n",
              "      <td>Iris-setosa</td>\n",
              "    </tr>\n",
              "    <tr>\n",
              "      <th>3</th>\n",
              "      <td>4.6</td>\n",
              "      <td>3.1</td>\n",
              "      <td>1.5</td>\n",
              "      <td>0.2</td>\n",
              "      <td>Iris-setosa</td>\n",
              "    </tr>\n",
              "    <tr>\n",
              "      <th>4</th>\n",
              "      <td>5.0</td>\n",
              "      <td>3.6</td>\n",
              "      <td>1.4</td>\n",
              "      <td>0.2</td>\n",
              "      <td>Iris-setosa</td>\n",
              "    </tr>\n",
              "  </tbody>\n",
              "</table>\n",
              "</div>"
            ],
            "text/plain": [
              "   SepalLengthCm  SepalWidthCm  PetalLengthCm  PetalWidthCm      Species\n",
              "0            5.1           3.5            1.4           0.2  Iris-setosa\n",
              "1            4.9           3.0            1.4           0.2  Iris-setosa\n",
              "2            4.7           3.2            1.3           0.2  Iris-setosa\n",
              "3            4.6           3.1            1.5           0.2  Iris-setosa\n",
              "4            5.0           3.6            1.4           0.2  Iris-setosa"
            ]
          },
          "metadata": {
            "tags": []
          },
          "execution_count": 97
        }
      ]
    },
    {
      "cell_type": "markdown",
      "metadata": {
        "id": "0Yy1VTGr8yW7",
        "colab_type": "text"
      },
      "source": [
        "**Summary Statistics**\n",
        "\n",
        "Check the summary statistics:"
      ]
    },
    {
      "cell_type": "code",
      "metadata": {
        "id": "BtCvQOT785zg",
        "colab_type": "code",
        "colab": {
          "base_uri": "https://localhost:8080/",
          "height": 294
        },
        "outputId": "d7bc0140-de4b-405f-c981-476ced6b3065"
      },
      "source": [
        "iris.describe()"
      ],
      "execution_count": 98,
      "outputs": [
        {
          "output_type": "execute_result",
          "data": {
            "text/html": [
              "<div>\n",
              "<style scoped>\n",
              "    .dataframe tbody tr th:only-of-type {\n",
              "        vertical-align: middle;\n",
              "    }\n",
              "\n",
              "    .dataframe tbody tr th {\n",
              "        vertical-align: top;\n",
              "    }\n",
              "\n",
              "    .dataframe thead th {\n",
              "        text-align: right;\n",
              "    }\n",
              "</style>\n",
              "<table border=\"1\" class=\"dataframe\">\n",
              "  <thead>\n",
              "    <tr style=\"text-align: right;\">\n",
              "      <th></th>\n",
              "      <th>SepalLengthCm</th>\n",
              "      <th>SepalWidthCm</th>\n",
              "      <th>PetalLengthCm</th>\n",
              "      <th>PetalWidthCm</th>\n",
              "    </tr>\n",
              "  </thead>\n",
              "  <tbody>\n",
              "    <tr>\n",
              "      <th>count</th>\n",
              "      <td>150.000000</td>\n",
              "      <td>150.000000</td>\n",
              "      <td>150.000000</td>\n",
              "      <td>150.000000</td>\n",
              "    </tr>\n",
              "    <tr>\n",
              "      <th>mean</th>\n",
              "      <td>5.843333</td>\n",
              "      <td>3.054000</td>\n",
              "      <td>3.758667</td>\n",
              "      <td>1.198667</td>\n",
              "    </tr>\n",
              "    <tr>\n",
              "      <th>std</th>\n",
              "      <td>0.828066</td>\n",
              "      <td>0.433594</td>\n",
              "      <td>1.764420</td>\n",
              "      <td>0.763161</td>\n",
              "    </tr>\n",
              "    <tr>\n",
              "      <th>min</th>\n",
              "      <td>4.300000</td>\n",
              "      <td>2.000000</td>\n",
              "      <td>1.000000</td>\n",
              "      <td>0.100000</td>\n",
              "    </tr>\n",
              "    <tr>\n",
              "      <th>25%</th>\n",
              "      <td>5.100000</td>\n",
              "      <td>2.800000</td>\n",
              "      <td>1.600000</td>\n",
              "      <td>0.300000</td>\n",
              "    </tr>\n",
              "    <tr>\n",
              "      <th>50%</th>\n",
              "      <td>5.800000</td>\n",
              "      <td>3.000000</td>\n",
              "      <td>4.350000</td>\n",
              "      <td>1.300000</td>\n",
              "    </tr>\n",
              "    <tr>\n",
              "      <th>75%</th>\n",
              "      <td>6.400000</td>\n",
              "      <td>3.300000</td>\n",
              "      <td>5.100000</td>\n",
              "      <td>1.800000</td>\n",
              "    </tr>\n",
              "    <tr>\n",
              "      <th>max</th>\n",
              "      <td>7.900000</td>\n",
              "      <td>4.400000</td>\n",
              "      <td>6.900000</td>\n",
              "      <td>2.500000</td>\n",
              "    </tr>\n",
              "  </tbody>\n",
              "</table>\n",
              "</div>"
            ],
            "text/plain": [
              "       SepalLengthCm  SepalWidthCm  PetalLengthCm  PetalWidthCm\n",
              "count     150.000000    150.000000     150.000000    150.000000\n",
              "mean        5.843333      3.054000       3.758667      1.198667\n",
              "std         0.828066      0.433594       1.764420      0.763161\n",
              "min         4.300000      2.000000       1.000000      0.100000\n",
              "25%         5.100000      2.800000       1.600000      0.300000\n",
              "50%         5.800000      3.000000       4.350000      1.300000\n",
              "75%         6.400000      3.300000       5.100000      1.800000\n",
              "max         7.900000      4.400000       6.900000      2.500000"
            ]
          },
          "metadata": {
            "tags": []
          },
          "execution_count": 98
        }
      ]
    },
    {
      "cell_type": "markdown",
      "metadata": {
        "id": "b0sOcPbZ88ZV",
        "colab_type": "text"
      },
      "source": [
        "All four features are numeric, each with different ranges. There are no missing values in any of the columns. Therefore, this is a clean dataset."
      ]
    },
    {
      "cell_type": "markdown",
      "metadata": {
        "id": "FSzwfEz59IOl",
        "colab_type": "text"
      },
      "source": [
        "Class Distribution\n",
        "\n",
        "The data set contains 3 classes of 50 instances each. We can check this by:"
      ]
    },
    {
      "cell_type": "code",
      "metadata": {
        "id": "MeerpyAo9Aww",
        "colab_type": "code",
        "colab": {
          "base_uri": "https://localhost:8080/",
          "height": 104
        },
        "outputId": "f3ddd3c9-32de-4cca-e455-df0a304460a6"
      },
      "source": [
        "iris.groupby('Species').size()"
      ],
      "execution_count": 99,
      "outputs": [
        {
          "output_type": "execute_result",
          "data": {
            "text/plain": [
              "Species\n",
              "Iris-setosa        50\n",
              "Iris-versicolor    50\n",
              "Iris-virginica     50\n",
              "dtype: int64"
            ]
          },
          "metadata": {
            "tags": []
          },
          "execution_count": 99
        }
      ]
    },
    {
      "cell_type": "markdown",
      "metadata": {
        "id": "JZiRkWDN9OCF",
        "colab_type": "text"
      },
      "source": [
        "Or simply use value_counts():"
      ]
    },
    {
      "cell_type": "code",
      "metadata": {
        "id": "daxg1JHR9PDe",
        "colab_type": "code",
        "colab": {
          "base_uri": "https://localhost:8080/",
          "height": 87
        },
        "outputId": "00dfbf18-2185-404e-de0e-2af0af99febc"
      },
      "source": [
        "iris['Species'].value_counts()"
      ],
      "execution_count": 100,
      "outputs": [
        {
          "output_type": "execute_result",
          "data": {
            "text/plain": [
              "Iris-setosa        50\n",
              "Iris-versicolor    50\n",
              "Iris-virginica     50\n",
              "Name: Species, dtype: int64"
            ]
          },
          "metadata": {
            "tags": []
          },
          "execution_count": 100
        }
      ]
    },
    {
      "cell_type": "markdown",
      "metadata": {
        "id": "tql72_MA9iS2",
        "colab_type": "text"
      },
      "source": [
        "The method value_counts() is a great utility for quickly understanding the distribution of the data. When used on the categorical data, it counts the number of unique values in the column of interest.\n",
        "\n",
        "Iris is a balanced dataset as the data points for each class are evenly distributed."
      ]
    },
    {
      "cell_type": "markdown",
      "metadata": {
        "id": "QQghF3JB9tcb",
        "colab_type": "text"
      },
      "source": [
        "# **Data visualization**"
      ]
    },
    {
      "cell_type": "markdown",
      "metadata": {
        "id": "bPtsLWtR94a2",
        "colab_type": "text"
      },
      "source": [
        "Univariate Plot\n",
        "\n",
        "To better understand each attribute, start with univariate plots, that is, plots of each individual variable."
      ]
    },
    {
      "cell_type": "code",
      "metadata": {
        "id": "oP6ebA2p9nDT",
        "colab_type": "code",
        "colab": {
          "base_uri": "https://localhost:8080/",
          "height": 281
        },
        "outputId": "7886a569-5d13-4ac9-a5aa-a039d86f200a"
      },
      "source": [
        "iris.hist()\n",
        "plt.show()"
      ],
      "execution_count": 101,
      "outputs": [
        {
          "output_type": "display_data",
          "data": {
            "image/png": "[encoded data removed]",
            "text/plain": [
              "<Figure size 432x288 with 4 Axes>"
            ]
          },
          "metadata": {
            "tags": [],
            "needs_background": "light"
          }
        }
      ]
    },
    {
      "cell_type": "markdown",
      "metadata": {
        "id": "SX7tTeMh-jFF",
        "colab_type": "text"
      },
      "source": [
        "This gives us a much clearer idea of the distribution of the input variable, showing that both sepal length and sepal width have a normal (Gaussian) distribution. That is, the distribution has a beautiful symmetric bell shape. However, the length of petals is not normal. Its plot shows two modes, one peak happening near 0 and the other around 5. Less patterns were observed for the petal width."
      ]
    },
    {
      "cell_type": "markdown",
      "metadata": {
        "id": "lHufqDeb_ILW",
        "colab_type": "text"
      },
      "source": [
        "Multivariate Plot\n",
        "\n",
        "To see the interactions between attributes we use scatter plots. However, it's difficult to see if there's any grouping without any indication of the true species of the flower that a datapoint represents. Therefore, we define a color code for each species to differentiate species visually:"
      ]
    },
    {
      "cell_type": "code",
      "metadata": {
        "id": "d8Z6NxX9_VKv",
        "colab_type": "code",
        "colab": {
          "base_uri": "https://localhost:8080/",
          "height": 282
        },
        "outputId": "b43d3877-cea9-4d51-f9cf-b77491659589"
      },
      "source": [
        "# build a dict mapping species to an integer code\n",
        "inv_name_dict = {'Iris-setosa': 0, \n",
        "  'Iris-versicolor': 1,\n",
        "  'Iris-virginica': 2}\n",
        "\n",
        "# build integer color code 0/1/2\n",
        "colors = [inv_name_dict[item] for item in iris['Species']] \n",
        "# scatter plot\n",
        "scatter = plt.scatter(iris['SepalLengthCm'], iris['SepalWidthCm'], c = colors)\n",
        "plt.xlabel('sepal length (cm)')\n",
        "plt.ylabel('sepal width (cm)')\n",
        "## add legend\n",
        "plt.legend(handles=scatter.legend_elements()[0],\n",
        "  labels = inv_name_dict.keys())\n",
        "plt.show()"
      ],
      "execution_count": 102,
      "outputs": [
        {
          "output_type": "display_data",
          "data": {
            "image/png": "[encoded data removed]",
            "text/plain": [
              "<Figure size 432x288 with 1 Axes>"
            ]
          },
          "metadata": {
            "tags": [],
            "needs_background": "light"
          }
        }
      ]
    },
    {
      "cell_type": "markdown",
      "metadata": {
        "id": "CJ8ySmDNACoS",
        "colab_type": "text"
      },
      "source": [
        "Using sepal_length and sepal_width features, we can distinguish iris-setosa from others; separating iris-versicolor from iris-virginica is harder because of the overlap as seen by the green and yellow datapoints.\n",
        "\n",
        "Similarly, between petal length and width:"
      ]
    },
    {
      "cell_type": "code",
      "metadata": {
        "id": "uFbRqyZiAHEI",
        "colab_type": "code",
        "colab": {
          "base_uri": "https://localhost:8080/",
          "height": 279
        },
        "outputId": "a1902e85-b07f-442a-84bb-ee28f6d3bb28"
      },
      "source": [
        "# scatter plot\n",
        "scatter = plt.scatter(iris['PetalLengthCm'], iris['PetalWidthCm'],c = colors)\n",
        "plt.xlabel('petal length (cm)')\n",
        "plt.ylabel('petal width (cm)')\n",
        "# add legend\n",
        "plt.legend(handles= scatter.legend_elements()[0],\n",
        "  labels = inv_name_dict.keys())\n",
        "plt.show()"
      ],
      "execution_count": 103,
      "outputs": [
        {
          "output_type": "display_data",
          "data": {
            "image/png": "[encoded data removed]",
            "text/plain": [
              "<Figure size 432x288 with 1 Axes>"
            ]
          },
          "metadata": {
            "tags": [],
            "needs_background": "light"
          }
        }
      ]
    },
    {
      "cell_type": "markdown",
      "metadata": {
        "id": "ts7OTEo-JNCJ",
        "colab_type": "text"
      },
      "source": [
        "\n",
        "Interestingly, the length and width of the petal are highly correlated, and these two features are very useful to identify various iris species. It is notable that the boundary between iris-versicolor and iris-virginica remains a bit fuzzy, indicating the difficulties for some classifiers. It is worth keeping in mind when training to decide which features we should use.\n",
        "To see scatter plots of all pairs of features, use pandas.plotting.scatter_matrix"
      ]
    },
    {
      "cell_type": "markdown",
      "metadata": {
        "id": "dDm8HhkLJlrE",
        "colab_type": "text"
      },
      "source": [
        "# **K nearest neighbours**"
      ]
    },
    {
      "cell_type": "markdown",
      "metadata": {
        "id": "BIy9TqU0JzxE",
        "colab_type": "text"
      },
      "source": [
        "K nearest neighbors (knn) is a supervised machine learning model that takes a data point, looks at its 'k' closest labeled data points, and assigns the label by a majority vote.\n",
        "\n",
        "Here we see that changing k could affect the output of the model. In knn, k is a hyperparameter. A hyperparameter in machine learning is a parameter whose value is set before the learning process begins. We will learn how to tune the hyperparameter later."
      ]
    },
    {
      "cell_type": "markdown",
      "metadata": {
        "id": "zXDepRtEKlWF",
        "colab_type": "text"
      },
      "source": [
        "**Data Preparation**\n",
        "\n",
        "Earlier we identified that the length and the width of the petals are the most useful features to separate the species; we then define the features and labels as follows:"
      ]
    },
    {
      "cell_type": "code",
      "metadata": {
        "id": "77dm8pl9Kn6C",
        "colab_type": "code",
        "colab": {}
      },
      "source": [
        "X = iris[['PetalLengthCm', 'PetalWidthCm']]\n",
        "y = iris['Species']"
      ],
      "execution_count": 104,
      "outputs": []
    },
    {
      "cell_type": "markdown",
      "metadata": {
        "id": "PwtSGoFjLAAO",
        "colab_type": "text"
      },
      "source": [
        "Recall that to assess the performance of the model, we do so on data that is unseen by the model construction. As a result, we set aside some portion of the data as a test set to mimic the unknown data the model will be presented with in the future. As done in the previous module, we use train_test_split in sklearn.model_selection."
      ]
    },
    {
      "cell_type": "code",
      "metadata": {
        "id": "LI9ekAtAK8R0",
        "colab_type": "code",
        "colab": {}
      },
      "source": [
        "from sklearn.model_selection import train_test_split\n",
        "X_train, X_test, y_train, y_test = train_test_split(X, y, test_size=0.30, random_state=1, stratify=y)"
      ],
      "execution_count": 105,
      "outputs": []
    },
    {
      "cell_type": "markdown",
      "metadata": {
        "id": "FjEYMtKnLFr4",
        "colab_type": "text"
      },
      "source": [
        "We use a 70-30 split, i.e., 70% of the data is for training and 30% for testing. Note that we specified the split was stratified by label (y). This is done to ensure that the distribution of labels remains similar in both train and test sets:"
      ]
    },
    {
      "cell_type": "code",
      "metadata": {
        "id": "R4O8LPwGLJpM",
        "colab_type": "code",
        "colab": {
          "base_uri": "https://localhost:8080/",
          "height": 87
        },
        "outputId": "9bc2f5a4-07f3-41da-b997-db708ed776a9"
      },
      "source": [
        "y_train.value_counts()\n",
        "y_test.value_counts()"
      ],
      "execution_count": 106,
      "outputs": [
        {
          "output_type": "execute_result",
          "data": {
            "text/plain": [
              "Iris-setosa        15\n",
              "Iris-versicolor    15\n",
              "Iris-virginica     15\n",
              "Name: Species, dtype: int64"
            ]
          },
          "metadata": {
            "tags": []
          },
          "execution_count": 106
        }
      ]
    },
    {
      "cell_type": "markdown",
      "metadata": {
        "id": "9US_gcqtLble",
        "colab_type": "text"
      },
      "source": [
        "**Modeling**\n",
        "\n",
        "Now we are ready to build and train the model knn. First we import the class of the model:"
      ]
    },
    {
      "cell_type": "code",
      "metadata": {
        "id": "0bhcBcj6Lg7o",
        "colab_type": "code",
        "colab": {}
      },
      "source": [
        "from sklearn.neighbors import KNeighborsClassifier"
      ],
      "execution_count": 107,
      "outputs": []
    },
    {
      "cell_type": "markdown",
      "metadata": {
        "id": "W0tBh5dMLkjF",
        "colab_type": "text"
      },
      "source": [
        "Now create an instance knn from the class KNeighborsClassifier."
      ]
    },
    {
      "cell_type": "code",
      "metadata": {
        "id": "y6qzrBV4LkNw",
        "colab_type": "code",
        "colab": {}
      },
      "source": [
        "knn = KNeighborsClassifier(n_neighbors=5)"
      ],
      "execution_count": 108,
      "outputs": []
    },
    {
      "cell_type": "markdown",
      "metadata": {
        "id": "qYYnmonBLqJJ",
        "colab_type": "text"
      },
      "source": [
        "Note that the only parameter we need to set in this problem is n_neighbors, or k as in knn. We set k to be 5 by random choice.\n",
        "\n",
        "Use the data X_train and y_train to train the model:"
      ]
    },
    {
      "cell_type": "code",
      "metadata": {
        "id": "VdWRaancLw0U",
        "colab_type": "code",
        "colab": {
          "base_uri": "https://localhost:8080/",
          "height": 69
        },
        "outputId": "bb394a35-2e99-4b3c-f5a4-53ef22e89270"
      },
      "source": [
        "knn.fit(X_train, y_train)"
      ],
      "execution_count": 109,
      "outputs": [
        {
          "output_type": "execute_result",
          "data": {
            "text/plain": [
              "KNeighborsClassifier(algorithm='auto', leaf_size=30, metric='minkowski',\n",
              "                     metric_params=None, n_jobs=None, n_neighbors=5, p=2,\n",
              "                     weights='uniform')"
            ]
          },
          "metadata": {
            "tags": []
          },
          "execution_count": 109
        }
      ]
    },
    {
      "cell_type": "markdown",
      "metadata": {
        "id": "o2ZcUhg-L0hq",
        "colab_type": "text"
      },
      "source": [
        "**Label Prediction**\n",
        "\n",
        "To make a prediction in scikit learn, we can call the method predict(). We are trying to predict the species of iris using given features in feature matrix X.\n",
        "Let’s make the predictions on the test data set and save the output in pred for later review:"
      ]
    },
    {
      "cell_type": "code",
      "metadata": {
        "id": "iVVXLufAMGN0",
        "colab_type": "code",
        "colab": {}
      },
      "source": [
        "pred = knn.predict(X_test)"
      ],
      "execution_count": 110,
      "outputs": []
    },
    {
      "cell_type": "markdown",
      "metadata": {
        "id": "OevPLJ0dMJ4a",
        "colab_type": "text"
      },
      "source": [
        "Let’s review the first five predictions:"
      ]
    },
    {
      "cell_type": "code",
      "metadata": {
        "id": "r7wOTbUcMN4Y",
        "colab_type": "code",
        "colab": {
          "base_uri": "https://localhost:8080/",
          "height": 52
        },
        "outputId": "a78f4f9b-9028-4b9f-e74a-e92295e5b322"
      },
      "source": [
        "pred[:5]"
      ],
      "execution_count": 111,
      "outputs": [
        {
          "output_type": "execute_result",
          "data": {
            "text/plain": [
              "array(['Iris-virginica', 'Iris-setosa', 'Iris-setosa', 'Iris-versicolor',\n",
              "       'Iris-versicolor'], dtype=object)"
            ]
          },
          "metadata": {
            "tags": []
          },
          "execution_count": 111
        }
      ]
    },
    {
      "cell_type": "markdown",
      "metadata": {
        "id": "jpjhIPayMcfa",
        "colab_type": "text"
      },
      "source": [
        "**Probability Prediction**\n",
        "\n",
        "Of all classification algorithms implemented in scikit learn, there is an additional method 'predict_prob'. Instead of splitting the label, it outputs the probability for the target in array form. Let’s take a look at what the predicted probabilities are for the 11th and 12th flowers:"
      ]
    },
    {
      "cell_type": "code",
      "metadata": {
        "id": "0AHwk97DMgyf",
        "colab_type": "code",
        "colab": {
          "base_uri": "https://localhost:8080/",
          "height": 52
        },
        "outputId": "959843c5-e89e-4563-fad0-5edf54f98072"
      },
      "source": [
        "y_pred_prob = knn.predict_proba(X_test)\n",
        "y_pred_prob[10:12]"
      ],
      "execution_count": 112,
      "outputs": [
        {
          "output_type": "execute_result",
          "data": {
            "text/plain": [
              "array([[1. , 0. , 0. ],\n",
              "       [0. , 0.2, 0.8]])"
            ]
          },
          "metadata": {
            "tags": []
          },
          "execution_count": 112
        }
      ]
    },
    {
      "cell_type": "markdown",
      "metadata": {
        "id": "_5IHBhOnMj2M",
        "colab_type": "text"
      },
      "source": [
        "For example, the probability of the 11th flower being predicted an iris-setosa is 1, an iris-versicolor and an iris-virginica are both 0. For the next flower, there is a 20% chance that it would be classified as iris-versicolor but 80% chance to be iris-virginica. What it tells us is that of the five nearest neighbours of the 12th flower in the testing set, 1 is an iris-versicolor, the rest 4 are iris-virginica. To see the corresponding predictions:"
      ]
    },
    {
      "cell_type": "code",
      "metadata": {
        "id": "zEXxzXT3MrYN",
        "colab_type": "code",
        "colab": {
          "base_uri": "https://localhost:8080/",
          "height": 35
        },
        "outputId": "36921da6-cfe0-4040-9763-aa4fa83b6835"
      },
      "source": [
        "pred[10:12]"
      ],
      "execution_count": 113,
      "outputs": [
        {
          "output_type": "execute_result",
          "data": {
            "text/plain": [
              "array(['Iris-setosa', 'Iris-virginica'], dtype=object)"
            ]
          },
          "metadata": {
            "tags": []
          },
          "execution_count": 113
        }
      ]
    },
    {
      "cell_type": "markdown",
      "metadata": {
        "id": "s42XbxL4M2S2",
        "colab_type": "text"
      },
      "source": [
        "**Accuracy**\n",
        "\n",
        "In classification the most straightforward metric is accuracy. It calculates the proportion of data points whose predicted labels exactly match the observed labels."
      ]
    },
    {
      "cell_type": "code",
      "metadata": {
        "id": "EsTWOqegNw8c",
        "colab_type": "code",
        "colab": {
          "base_uri": "https://localhost:8080/",
          "height": 52
        },
        "outputId": "334edfb3-3273-45c5-b445-1cfd3f01e6d9"
      },
      "source": [
        "print((pred==y_test.values).sum())\n",
        "y_test.size"
      ],
      "execution_count": 114,
      "outputs": [
        {
          "output_type": "stream",
          "text": [
            "44\n"
          ],
          "name": "stdout"
        },
        {
          "output_type": "execute_result",
          "data": {
            "text/plain": [
              "45"
            ]
          },
          "metadata": {
            "tags": []
          },
          "execution_count": 114
        }
      ]
    },
    {
      "cell_type": "markdown",
      "metadata": {
        "id": "y2o6PabbN1Mz",
        "colab_type": "text"
      },
      "source": [
        "The classifier made one mistake. Thus, the accuracy is 44/45:"
      ]
    },
    {
      "cell_type": "code",
      "metadata": {
        "id": "Cd79zQyeOOk_",
        "colab_type": "code",
        "colab": {
          "base_uri": "https://localhost:8080/",
          "height": 35
        },
        "outputId": "de48f0df-4b1b-46ae-d511-cb47109d51ab"
      },
      "source": [
        "(pred==y_test.values).sum()/y_test.size"
      ],
      "execution_count": 115,
      "outputs": [
        {
          "output_type": "execute_result",
          "data": {
            "text/plain": [
              "0.9777777777777777"
            ]
          },
          "metadata": {
            "tags": []
          },
          "execution_count": 115
        }
      ]
    },
    {
      "cell_type": "markdown",
      "metadata": {
        "id": "pWses_ikOgye",
        "colab_type": "text"
      },
      "source": [
        "Same as:"
      ]
    },
    {
      "cell_type": "code",
      "metadata": {
        "id": "b3FkBfGIOhig",
        "colab_type": "code",
        "colab": {
          "base_uri": "https://localhost:8080/",
          "height": 35
        },
        "outputId": "25731ba9-bb11-40a1-cced-b48d699619eb"
      },
      "source": [
        "knn.score(X_test, y_test)"
      ],
      "execution_count": 116,
      "outputs": [
        {
          "output_type": "execute_result",
          "data": {
            "text/plain": [
              "0.9777777777777777"
            ]
          },
          "metadata": {
            "tags": []
          },
          "execution_count": 116
        }
      ]
    },
    {
      "cell_type": "markdown",
      "metadata": {
        "id": "RORI1Fg0Omuq",
        "colab_type": "text"
      },
      "source": [
        "**Confusion Matrix**\n",
        "\n",
        "Classification accuracy alone can be misleading if there is an unequal number of observations in each class or if there are more than two classes in the dataset. Calculating a confusion matrix will provide a better idea of what the classification is getting right and what types of errors it is making.\n",
        "\n",
        "What is a confusion matrix? It is a summary of the counts of correct and incorrect predictions, broken down by each class.\n",
        "\n",
        "In classifying the iris, we can use confusion_matrix() under module sklearn.metrics:"
      ]
    },
    {
      "cell_type": "code",
      "metadata": {
        "id": "rj867W2RO0oM",
        "colab_type": "code",
        "colab": {
          "base_uri": "https://localhost:8080/",
          "height": 69
        },
        "outputId": "049f396c-877b-4c9b-cfb9-d41c250f5891"
      },
      "source": [
        "from sklearn.metrics import confusion_matrix \n",
        "confusion_matrix(y_test, pred, labels=['Iris-setosa','Iris-versicolor','Iris-virginica'])"
      ],
      "execution_count": 117,
      "outputs": [
        {
          "output_type": "execute_result",
          "data": {
            "text/plain": [
              "array([[15,  0,  0],\n",
              "       [ 0, 15,  0],\n",
              "       [ 0,  1, 14]])"
            ]
          },
          "metadata": {
            "tags": []
          },
          "execution_count": 117
        }
      ]
    },
    {
      "cell_type": "markdown",
      "metadata": {
        "id": "SnNJaBM3PITX",
        "colab_type": "text"
      },
      "source": [
        "We can visualize the confusion matrix:"
      ]
    },
    {
      "cell_type": "code",
      "metadata": {
        "id": "JMwwxq5SPIBI",
        "colab_type": "code",
        "colab": {
          "base_uri": "https://localhost:8080/",
          "height": 279
        },
        "outputId": "88171f37-8f0e-4c40-ed2e-e02fea7f977a"
      },
      "source": [
        "from sklearn.metrics import plot_confusion_matrix\n",
        "plot_confusion_matrix(knn, X_test, y_test, cmap=plt.cm.Blues);"
      ],
      "execution_count": 118,
      "outputs": [
        {
          "output_type": "display_data",
          "data": {
            "image/png": "[encoded data removed]",
            "text/plain": [
              "<Figure size 432x288 with 2 Axes>"
            ]
          },
          "metadata": {
            "tags": [],
            "needs_background": "light"
          }
        }
      ]
    },
    {
      "cell_type": "markdown",
      "metadata": {
        "id": "mzBJqFKtPTYq",
        "colab_type": "text"
      },
      "source": [
        "Here we specified the labels in order. Each column of the matrix corresponds to a predicted class, and each row corresponds to an actual class. So the row sums up to the total number of instances of the class.\n",
        "\n",
        "The first row corresponds to the actual iris-setosa; [15, 0, 0] indicates that 15 of iris-setosa are correctly predicted, and none are mislabeled; while the last row [0, 1, 14] suggests that of 15 actual iris-virginica, 0 were predicted as iris-setosa, 1 was predicted to be iris-versicolor, and the remaining 14 were correctly identified as iris-virginica. This is consistent with our observation during exploratory data analysis, that is, there was some overlap between the two species on the scatter plot and it is more difficult to distinguish iris-versicolor from iris-virginica than identifying iris-setosa."
      ]
    },
    {
      "cell_type": "markdown",
      "metadata": {
        "id": "c3QM9XItQEWo",
        "colab_type": "text"
      },
      "source": [
        "**K-fold Cross Validation**\n",
        "\n",
        "Previously we made train-test split before fitting the model so that we can report the model performance on the test data. This is a simple kind of cross validation technique, also known as the holdout method. However, the split is random, as a result, model performance can be sensitive to how the data is split. To overcome this, we introduce k-fold cross validation.\n",
        "\n",
        "In k fold cross validation, the data is divided into k subsets. Then the holdout method is repeated k times, such that each time, one of the k subsets is used as the test set and the other k-1 subsets are combined to train the model. Then the accuracy is averaged over k trials to provide total effectiveness of the model. In this way, all data points are used; and there are more metrics so we don’t rely on one test data for model performance evaluation.\n",
        "\n",
        "The simplest way to use k-fold cross-validation in scikit-learn is to call the cross_val_score function on the model and the dataset:"
      ]
    },
    {
      "cell_type": "code",
      "metadata": {
        "id": "Swx_PSuCPPE6",
        "colab_type": "code",
        "colab": {}
      },
      "source": [
        "from sklearn.model_selection import cross_val_score\n",
        "# create a new KNN model\n",
        "knn_cv = KNeighborsClassifier(n_neighbors=3)"
      ],
      "execution_count": 119,
      "outputs": []
    },
    {
      "cell_type": "markdown",
      "metadata": {
        "id": "DhWH8nS6QJ1b",
        "colab_type": "text"
      },
      "source": [
        "Note that now we are fitting a 3nn model."
      ]
    },
    {
      "cell_type": "code",
      "metadata": {
        "id": "dgm667xxQNik",
        "colab_type": "code",
        "colab": {}
      },
      "source": [
        "# train model with 5-fold cv\n",
        "cv_scores = cross_val_score(knn_cv, X, y, cv=5)\n"
      ],
      "execution_count": 120,
      "outputs": []
    },
    {
      "cell_type": "markdown",
      "metadata": {
        "id": "BrNK7cPAQQ3U",
        "colab_type": "text"
      },
      "source": [
        "Each of the holdout set contains 20% of the original data."
      ]
    },
    {
      "cell_type": "code",
      "metadata": {
        "id": "GqDCNF7jQUH4",
        "colab_type": "code",
        "colab": {
          "base_uri": "https://localhost:8080/",
          "height": 35
        },
        "outputId": "7e7c24a5-9fef-45de-f37e-b13f4b1cfe9e"
      },
      "source": [
        "# print each cv score (accuracy) \n",
        "print(cv_scores)"
      ],
      "execution_count": 121,
      "outputs": [
        {
          "output_type": "stream",
          "text": [
            "[0.96666667 0.96666667 0.9        0.93333333 1.        ]\n"
          ],
          "name": "stdout"
        }
      ]
    },
    {
      "cell_type": "markdown",
      "metadata": {
        "id": "yxN3JlkWQcPm",
        "colab_type": "text"
      },
      "source": [
        "As shown, due to the random assignments, the accuracies on the holdsets fluctuates from 0.9 to 1."
      ]
    },
    {
      "cell_type": "code",
      "metadata": {
        "id": "BJQRM6b_Qda3",
        "colab_type": "code",
        "colab": {
          "base_uri": "https://localhost:8080/",
          "height": 35
        },
        "outputId": "061e28fb-0769-40fd-d45b-6f53e314cb43"
      },
      "source": [
        "# then average them\n",
        "cv_scores.mean()"
      ],
      "execution_count": 122,
      "outputs": [
        {
          "output_type": "execute_result",
          "data": {
            "text/plain": [
              "0.9533333333333334"
            ]
          },
          "metadata": {
            "tags": []
          },
          "execution_count": 122
        }
      ]
    },
    {
      "cell_type": "markdown",
      "metadata": {
        "id": "YXJ18f3wQhKc",
        "colab_type": "text"
      },
      "source": [
        "We can not rely on one single train-test split, rather we report that the 3nn model has an accuracy of 95.33% based on a 5-fold cross validation."
      ]
    },
    {
      "cell_type": "markdown",
      "metadata": {
        "id": "H3MxR11KQ-X6",
        "colab_type": "text"
      },
      "source": [
        "**Grid Search**\n",
        "\n",
        "When we built our first knn model, we set the hyperparameter k to 5, and then to 3 later in k-fold cross validation; random choices really. What is the best k? Finding the optimal k is called tuning the hyperparameter. A handy tool is grid search. In scikit-learn, we use GridSearchCV, which trains our model multiple times on a range of values specified with the param_grid parameter and computes cross validation score, so that we can check which of our values for the tested hyperparameter performed the best."
      ]
    },
    {
      "cell_type": "code",
      "metadata": {
        "id": "ncoWRKFoRML5",
        "colab_type": "code",
        "colab": {
          "base_uri": "https://localhost:8080/",
          "height": 191
        },
        "outputId": "df5d9f20-352d-4d6f-9696-c93d0871ec84"
      },
      "source": [
        "from sklearn.model_selection import GridSearchCV\n",
        "# create new a knn model\n",
        "knn2 = KNeighborsClassifier()\n",
        "# create a dict of all values we want to test for n_neighbors\n",
        "param_grid = {'n_neighbors': np.arange(2, 10)}\n",
        "# use gridsearch to test all values for n_neighbors\n",
        "knn_gscv = GridSearchCV(knn2, param_grid, cv=5)\n",
        "#fit model to data\n",
        "knn_gscv.fit(X, y)"
      ],
      "execution_count": 123,
      "outputs": [
        {
          "output_type": "execute_result",
          "data": {
            "text/plain": [
              "GridSearchCV(cv=5, error_score=nan,\n",
              "             estimator=KNeighborsClassifier(algorithm='auto', leaf_size=30,\n",
              "                                            metric='minkowski',\n",
              "                                            metric_params=None, n_jobs=None,\n",
              "                                            n_neighbors=5, p=2,\n",
              "                                            weights='uniform'),\n",
              "             iid='deprecated', n_jobs=None,\n",
              "             param_grid={'n_neighbors': array([2, 3, 4, 5, 6, 7, 8, 9])},\n",
              "             pre_dispatch='2*n_jobs', refit=True, return_train_score=False,\n",
              "             scoring=None, verbose=0)"
            ]
          },
          "metadata": {
            "tags": []
          },
          "execution_count": 123
        }
      ]
    },
    {
      "cell_type": "markdown",
      "metadata": {
        "id": "BPIt1I0rRQs7",
        "colab_type": "text"
      },
      "source": [
        "To check the top performing n_neighbors value:"
      ]
    },
    {
      "cell_type": "code",
      "metadata": {
        "id": "PHKRZ4MzRZrc",
        "colab_type": "code",
        "colab": {
          "base_uri": "https://localhost:8080/",
          "height": 35
        },
        "outputId": "3847e0b9-0612-4292-aa75-3e28c282d3e7"
      },
      "source": [
        "knn_gscv.best_params_"
      ],
      "execution_count": 124,
      "outputs": [
        {
          "output_type": "execute_result",
          "data": {
            "text/plain": [
              "{'n_neighbors': 4}"
            ]
          },
          "metadata": {
            "tags": []
          },
          "execution_count": 124
        }
      ]
    },
    {
      "cell_type": "markdown",
      "metadata": {
        "id": "LOz_LCmaRfip",
        "colab_type": "text"
      },
      "source": [
        "We can see that 4 is the best value for n_neighbors. What is the accuracy of the model when k is 4?"
      ]
    },
    {
      "cell_type": "code",
      "metadata": {
        "id": "vNTtPG9PRj_d",
        "colab_type": "code",
        "colab": {
          "base_uri": "https://localhost:8080/",
          "height": 35
        },
        "outputId": "dec6b828-ea5c-46f9-f831-2feca4c294c4"
      },
      "source": [
        "knn_gscv.best_score_"
      ],
      "execution_count": 125,
      "outputs": [
        {
          "output_type": "execute_result",
          "data": {
            "text/plain": [
              "0.9666666666666668"
            ]
          },
          "metadata": {
            "tags": []
          },
          "execution_count": 125
        }
      ]
    },
    {
      "cell_type": "markdown",
      "metadata": {
        "id": "1tmFkZrIRtKJ",
        "colab_type": "text"
      },
      "source": [
        "By using grid search to find the optimal hyperparameter for our model, it improves the model accuracy by over 1%.\n",
        "\n",
        "Now we are ready to build the final model:"
      ]
    },
    {
      "cell_type": "code",
      "metadata": {
        "id": "HOUAJCVuRuru",
        "colab_type": "code",
        "colab": {
          "base_uri": "https://localhost:8080/",
          "height": 35
        },
        "outputId": "aec304d3-b674-4b2d-cee6-25cac888ee80"
      },
      "source": [
        "knn_final = KNeighborsClassifier(n_neighbors=knn_gscv.best_params_['n_neighbors'])\n",
        "knn_final.fit(X, y)\n",
        "y_pred = knn_final.predict(X)\n",
        "knn_final.score(X, y)"
      ],
      "execution_count": 126,
      "outputs": [
        {
          "output_type": "execute_result",
          "data": {
            "text/plain": [
              "0.9733333333333334"
            ]
          },
          "metadata": {
            "tags": []
          },
          "execution_count": 126
        }
      ]
    },
    {
      "cell_type": "markdown",
      "metadata": {
        "id": "AmCdsZOXRxyh",
        "colab_type": "text"
      },
      "source": [
        "We can report that our final model, 4nn, has an accuracy of 97.3% in predicting the species of iris!"
      ]
    },
    {
      "cell_type": "markdown",
      "metadata": {
        "id": "QM1rO_2tQvtg",
        "colab_type": "text"
      },
      "source": [
        "**Label Prediction with New Data**\n",
        "\n",
        "Now we are ready to deploy the model 'knn_final'. We take some measurements of an iris and record that the length and width of its sepal are 5.84 cm and 3.06 cm, respectively, and the length and width of its petal are 3.76 cm and 1.20 cm, respectively. How do we make a prediction using the built model?\n",
        "\n",
        "Use model.predict. Since the model was trained on the length and width of petals, that’s the data we will need to make a prediction. Let’s put the petal length and petal width into a numpy array:"
      ]
    },
    {
      "cell_type": "code",
      "metadata": {
        "id": "pBeNb6N8Q0YE",
        "colab_type": "code",
        "colab": {}
      },
      "source": [
        "new_data = np.array([3.76, 1.20])"
      ],
      "execution_count": 127,
      "outputs": []
    },
    {
      "cell_type": "markdown",
      "metadata": {
        "id": "uY_xdMV3Q9N-",
        "colab_type": "text"
      },
      "source": [
        "If we feed it to the model:"
      ]
    },
    {
      "cell_type": "code",
      "metadata": {
        "id": "8ABrZtIQR5Dc",
        "colab_type": "code",
        "colab": {}
      },
      "source": [
        "new_data = new_data.reshape(1, -1)"
      ],
      "execution_count": 128,
      "outputs": []
    },
    {
      "cell_type": "code",
      "metadata": {
        "id": "0ha-25HGSCRb",
        "colab_type": "code",
        "colab": {
          "base_uri": "https://localhost:8080/",
          "height": 35
        },
        "outputId": "ee410002-3fcd-46f5-e249-e31f4248eb15"
      },
      "source": [
        "knn_final.predict(new_data)"
      ],
      "execution_count": 129,
      "outputs": [
        {
          "output_type": "execute_result",
          "data": {
            "text/plain": [
              "array(['Iris-versicolor'], dtype=object)"
            ]
          },
          "metadata": {
            "tags": []
          },
          "execution_count": 129
        }
      ]
    },
    {
      "cell_type": "markdown",
      "metadata": {
        "id": "O5462jLqSIow",
        "colab_type": "text"
      },
      "source": [
        "\n",
        "**Our model predicts that this iris is a versicolor.**"
      ]
    },
    {
      "cell_type": "markdown",
      "metadata": {
        "id": "SGlzfEi7SZNr",
        "colab_type": "text"
      },
      "source": [
        "References:https://www.sololearn.com/Play/data-science\n",
        "\n",
        "Dataset:https://www.kaggle.com/lalitharajesh/iris-dataset-exploratory-data-analysis?rvi=1"
      ]
    }
  ]
}